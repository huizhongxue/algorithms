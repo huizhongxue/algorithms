{
 "cells": [
  {
   "attachments": {},
   "cell_type": "markdown",
   "metadata": {},
   "source": [
    "Memoized Fibonacci"
   ]
  },
  {
   "cell_type": "code",
   "execution_count": 6,
   "metadata": {},
   "outputs": [],
   "source": [
    "def memo_fib(n):\n",
    "    if n < 1: return -1\n",
    "    fib = [1, 1]\n",
    "    if n < len(fib):\n",
    "        return fib[n]\n",
    "    else:\n",
    "        for i in range(len(fib), n):\n",
    "            fib.append(fib[i-1] + fib[i-2])\n",
    "        return fib[-1]"
   ]
  },
  {
   "cell_type": "code",
   "execution_count": 11,
   "metadata": {},
   "outputs": [
    {
     "data": {
      "text/plain": [
       "43466557686937456435688527675040625802564660517371780402481729089536555417949051890403879840079255169295922593080322634775209689623239873322471161642996440906533187938298969649928516003704476137795166849228875"
      ]
     },
     "execution_count": 11,
     "metadata": {},
     "output_type": "execute_result"
    }
   ],
   "source": [
    "memo_fib(1000)"
   ]
  },
  {
   "attachments": {},
   "cell_type": "markdown",
   "metadata": {},
   "source": [
    "HW 4"
   ]
  },
  {
   "attachments": {},
   "cell_type": "markdown",
   "metadata": {},
   "source": [
    "Problem 1"
   ]
  },
  {
   "cell_type": "code",
   "execution_count": 66,
   "metadata": {},
   "outputs": [],
   "source": [
    "def lps(s, f, b):\n",
    "    if f == b:\n",
    "        return 1\n",
    "    elif f == b-1:\n",
    "        if s[f] == s[b]:\n",
    "            return 2\n",
    "        else:\n",
    "            return 0\n",
    "    else:\n",
    "        if s[f] == s[b]:\n",
    "            return 2 + lps(s, f+1, b-1)\n",
    "        elif lps(s, f+1, b) > lps(s, f, b-1):\n",
    "            return lps(s, f+1, b)\n",
    "        else:\n",
    "            return lps(s, f, b-1)"
   ]
  },
  {
   "cell_type": "code",
   "execution_count": 71,
   "metadata": {},
   "outputs": [
    {
     "data": {
      "text/plain": [
       "4"
      ]
     },
     "execution_count": 71,
     "metadata": {},
     "output_type": "execute_result"
    }
   ],
   "source": [
    "lps(\"GEEKSFORGEEKS\", 0, 12)"
   ]
  },
  {
   "attachments": {},
   "cell_type": "markdown",
   "metadata": {},
   "source": [
    "Problem 2"
   ]
  },
  {
   "cell_type": "code",
   "execution_count": 7,
   "metadata": {},
   "outputs": [],
   "source": [
    "# recursive, DP\n",
    "def staris(x, y, n):\n",
    "    ways = [-1] * n\n",
    "    how_many_ways(x, y, n, ways)\n",
    "    return ways[0]\n",
    "\n",
    "def how_many_ways(x, y, n, ways):\n",
    "    if ways[-n] != -1:\n",
    "        return ways[-n]\n",
    "    solution = 0\n",
    "    if n == x or n == y:\n",
    "        return 1\n",
    "    if n > x:\n",
    "        solution = solution + how_many_ways(x, y, n-x, ways)\n",
    "    if n > y:\n",
    "        solution = solution + how_many_ways(x, y, n-y, ways)\n",
    "    ways[-n] = solution"
   ]
  },
  {
   "cell_type": "code",
   "execution_count": 10,
   "metadata": {},
   "outputs": [
    {
     "name": "stdout",
     "output_type": "stream",
     "text": [
      "2\n"
     ]
    }
   ],
   "source": [
    "print(stairs(2, 3, 5))"
   ]
  },
  {
   "attachments": {},
   "cell_type": "markdown",
   "metadata": {},
   "source": [
    "Problem 3"
   ]
  },
  {
   "cell_type": "code",
   "execution_count": 57,
   "metadata": {},
   "outputs": [],
   "source": [
    "# recursive, DP\n",
    "def min_bill(n):\n",
    "    min = [-1] * (n+1)\n",
    "    get_bill(n, min)\n",
    "    return min[n]\n",
    "\n",
    "def get_bill(n, min):\n",
    "    if min[n] != -1:\n",
    "        return min[n]\n",
    "    if n == 3 or n == 5 or n == 7:\n",
    "        min[n] = 1\n",
    "        return 1\n",
    "    if n < 3 or n == 4:\n",
    "        min[n] = 0\n",
    "        return 0\n",
    "    else:\n",
    "        solution = 0\n",
    "        if n > 7:\n",
    "            min7 = get_bill(n-7, min)\n",
    "            if min7 != 0:\n",
    "                solution = 1 + min7\n",
    "        if n > 5:\n",
    "            min5 = get_bill(n-5, min)\n",
    "            if min5 != 0:\n",
    "                if solution != 0:\n",
    "                    if solution > 1 + min5:\n",
    "                        solution = 1 + min5\n",
    "                else:\n",
    "                    solution = 1 + min5\n",
    "        if n > 3:\n",
    "            min3 = get_bill(n-3, min)\n",
    "            if min3 != 0:\n",
    "                if solution != 0:\n",
    "                    if solution > 1 + min3:\n",
    "                        solution = 1 + min3\n",
    "                else:\n",
    "                    solution = 1 + min3\n",
    "    min[n] = solution\n",
    "    return solution"
   ]
  },
  {
   "cell_type": "code",
   "execution_count": 61,
   "metadata": {},
   "outputs": [
    {
     "data": {
      "text/plain": [
       "1052"
      ]
     },
     "execution_count": 61,
     "metadata": {},
     "output_type": "execute_result"
    }
   ],
   "source": [
    "min_bill(7356)"
   ]
  },
  {
   "attachments": {},
   "cell_type": "markdown",
   "metadata": {},
   "source": [
    "Problem 4"
   ]
  },
  {
   "cell_type": "code",
   "execution_count": null,
   "metadata": {},
   "outputs": [],
   "source": [
    "# greedy algorithm\n",
    "def buy_sell(prices):\n",
    "    profit = 0\n",
    "    buy = []\n",
    "    sell = []\n",
    "    for i in range(1, len(prices), 1):\n",
    "        if prices[i] - prices[i-1] > 0:\n",
    "            buy.append(i-1)\n",
    "            sell.append(i)\n",
    "            profit = profit + prices[i] - prices[i-1]\n",
    "    return profit, buy, sell"
   ]
  },
  {
   "attachments": {},
   "cell_type": "markdown",
   "metadata": {},
   "source": [
    "Grid Traveller"
   ]
  },
  {
   "cell_type": "code",
   "execution_count": 22,
   "metadata": {},
   "outputs": [],
   "source": [
    "def gridTraveler(m, n, memo = {}):\n",
    "    if (m, n) in memo or (n, m) in memo: \n",
    "        if (m, n) in memo: return memo[(m, n)]\n",
    "        else: return memo[(n, m)]\n",
    "    if n == 1 or m == 1: return 1\n",
    "    memo[(m, n)] = gridTraveler(m-1, n, memo) + gridTraveler(m, n-1, memo)\n",
    "    return memo[(m, n)]\n",
    "    \n",
    "\n"
   ]
  },
  {
   "cell_type": "code",
   "execution_count": 26,
   "metadata": {},
   "outputs": [
    {
     "data": {
      "text/plain": [
       "765842479231407065407157527583747677630161638596489288071857680378190622681657500619977733005328157920"
      ]
     },
     "execution_count": 26,
     "metadata": {},
     "output_type": "execute_result"
    }
   ],
   "source": [
    "gridTraveler(158, 189)"
   ]
  },
  {
   "attachments": {},
   "cell_type": "markdown",
   "metadata": {},
   "source": [
    "canSum"
   ]
  },
  {
   "cell_type": "code",
   "execution_count": 45,
   "metadata": {},
   "outputs": [],
   "source": [
    "def canSum(n, list, memo = {}):\n",
    "    if n in memo: return memo[n]\n",
    "    if n == 0: return True\n",
    "    if n < 0: return False\n",
    "    for x in list:\n",
    "        if (canSum(n-x, list, memo) == True): \n",
    "            memo[n] = True\n",
    "            return True\n",
    "    memo[n] = False\n",
    "    return False"
   ]
  },
  {
   "cell_type": "code",
   "execution_count": 46,
   "metadata": {},
   "outputs": [
    {
     "name": "stdout",
     "output_type": "stream",
     "text": [
      "True\n",
      "True\n",
      "False\n",
      "True\n",
      "False\n"
     ]
    }
   ],
   "source": [
    "print(canSum(7, [2, 3], {}))\n",
    "print(canSum(7, [5, 3, 4, 7], {}))\n",
    "print(canSum(7, [2, 4], {}))\n",
    "print(canSum(8, [2, 3, 5], {}))\n",
    "print(canSum(300, [7, 14], {}))"
   ]
  },
  {
   "attachments": {},
   "cell_type": "markdown",
   "metadata": {},
   "source": [
    "howSum"
   ]
  },
  {
   "cell_type": "code",
   "execution_count": null,
   "metadata": {},
   "outputs": [],
   "source": [
    "def howSum():\n",
    "\n",
    "    return 0"
   ]
  }
 ],
 "metadata": {
  "kernelspec": {
   "display_name": "Python 3",
   "language": "python",
   "name": "python3"
  },
  "language_info": {
   "codemirror_mode": {
    "name": "ipython",
    "version": 3
   },
   "file_extension": ".py",
   "mimetype": "text/x-python",
   "name": "python",
   "nbconvert_exporter": "python",
   "pygments_lexer": "ipython3",
   "version": "3.9.17"
  },
  "orig_nbformat": 4
 },
 "nbformat": 4,
 "nbformat_minor": 2
}
